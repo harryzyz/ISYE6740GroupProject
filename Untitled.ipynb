{
 "cells": [
  {
   "cell_type": "code",
   "execution_count": 2,
   "id": "e65ab86b",
   "metadata": {},
   "outputs": [
    {
     "name": "stdout",
     "output_type": "stream",
     "text": [
      "Ticker: GOOGL\n",
      "Market Price: 98.85\n",
      "Previous Close Price: 98.44\n"
     ]
    }
   ],
   "source": [
    "import yfinance as yf\n",
    "ticker = yf.Ticker('GOOGL').info\n",
    "market_price = ticker['regularMarketPrice']\n",
    "previous_close_price = ticker['regularMarketPreviousClose']\n",
    "print('Ticker: GOOGL')\n",
    "print('Market Price:', market_price)\n",
    "print('Previous Close Price:', previous_close_price)"
   ]
  },
  {
   "cell_type": "code",
   "execution_count": null,
   "id": "796fa06a",
   "metadata": {},
   "outputs": [
    {
     "name": "stderr",
     "output_type": "stream",
     "text": [
      "Exception in thread Thread-6:\n",
      "Traceback (most recent call last):\n",
      "  File \"C:\\Users\\smith\\anaconda3\\lib\\threading.py\", line 932, in _bootstrap_inner\n",
      "    self.run()\n",
      "  File \"C:\\Users\\smith\\anaconda3\\lib\\threading.py\", line 870, in run\n",
      "    self._target(*self._args, **self._kwargs)\n",
      "  File \"C:\\Users\\smith\\anaconda3\\lib\\site-packages\\multitasking\\__init__.py\", line 104, in _run_via_pool\n",
      "    return callee(*args, **kwargs)\n",
      "  File \"C:\\Users\\smith\\anaconda3\\lib\\site-packages\\yfinance\\multi.py\", line 199, in _download_one_threaded\n",
      "    data = _download_one(ticker, start, end, auto_adjust, back_adjust,\n",
      "  File \"C:\\Users\\smith\\anaconda3\\lib\\site-packages\\yfinance\\multi.py\", line 213, in _download_one\n",
      "    return Ticker(ticker).history(period=period, interval=interval,\n",
      "  File \"C:\\Users\\smith\\anaconda3\\lib\\site-packages\\yfinance\\base.py\", line 156, in history\n",
      "    tz = self._get_ticker_tz(debug_mode, proxy, timeout)\n",
      "  File \"C:\\Users\\smith\\anaconda3\\lib\\site-packages\\yfinance\\base.py\", line 339, in _get_ticker_tz\n",
      "    tkr_tz = utils.cache_lookup_tkr_tz(self.ticker)\n",
      "  File \"C:\\Users\\smith\\anaconda3\\lib\\site-packages\\yfinance\\utils.py\", line 339, in cache_lookup_tkr_tz\n",
      "    df = _pd.read_csv(fp, index_col=\"Ticker\", on_bad_lines=\"skip\")\n",
      "TypeError: read_csv() got an unexpected keyword argument 'on_bad_lines'\n"
     ]
    }
   ],
   "source": [
    "# Importing the yfinance package\n",
    "import yfinance as yf\n",
    " \n",
    "# Set the start and end date\n",
    "start_date = '2020-01-01'\n",
    "end_date = '2020-01-02'\n",
    " \n",
    "# Set the ticker\n",
    "ticker = 'GOOGL'\n",
    " \n",
    "# Get the data\n",
    "data = yf.download(ticker, start_date, end_date)\n",
    " \n",
    "# Print the last 5 rows\n",
    "print(data.tail())"
   ]
  },
  {
   "cell_type": "code",
   "execution_count": null,
   "id": "e61428a2",
   "metadata": {},
   "outputs": [],
   "source": [
    "SPY = yf.download('SPY')\n",
    "SPY.head()"
   ]
  },
  {
   "cell_type": "code",
   "execution_count": null,
   "id": "bd0138c2",
   "metadata": {},
   "outputs": [],
   "source": [
    "pip install yfinance"
   ]
  }
 ],
 "metadata": {
  "kernelspec": {
   "display_name": "Python 3",
   "language": "python",
   "name": "python3"
  }
 },
 "nbformat": 4,
 "nbformat_minor": 5
}
