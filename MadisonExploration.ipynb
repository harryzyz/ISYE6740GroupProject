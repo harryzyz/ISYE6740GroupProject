{
 "cells": [
  {
   "cell_type": "markdown",
   "id": "45eddc14",
   "metadata": {},
   "source": [
    "sales = unit of sales\n",
    "\n",
    "revenue = amount of money\n",
    "\n",
    "Original plan:\n",
    "\n",
    "revenue at each store ~ everything we can get\n",
    "\n",
    "From the original dataset, we will:\n",
    "\n",
    "1. manipulate the dataframe to the way we desire.\n",
    "\n",
    "2. combine daily usales to weekly sales, pair each week with events (joined from calendar.csv).\n",
    "\n",
    "3. pair each weekly sales with its correspondance price (joined from sales_price.csv).\n",
    "\n",
    "4. sales * price = weekly revenue for the item.\n",
    "\n",
    "5. add all revenues from the same store for the total revenue of that store.\n",
    "\n",
    "for each data point, we will have: revenue, store_id, week_id, and event .\n",
    "\n",
    "In this case, dependent var will be the revenue, independent var will be the rest of them. We will have store_id and event as categorical and create dummy var for them (9 + 4 cols). Note that we have to keep all four columns for event because there is a NaN type. We will treat week_id as numerical because there are 278 different values. \n",
    "\n",
    "The size of training data will be 278 weeks * 10 stores = 2780 rows and 9+4+1+1=15 columns (2780, 15).\n",
    "\n",
    "The size of testing data will be 4 weeks * 10 stores = 40 rows.\n",
    "\n",
    "My concern is:\n",
    "\n",
    "1. weekly_id has cyclic effect as sales at the same period per year will be similar. For example, sales will always boost during holiday seasons and drop down a bit after that. \n",
    "\n",
    "2. it is not true that as time goes on, the revenue will have a upward or downward trend over the period of time of the dataset.\n",
    "\n",
    "Intuitively, our numerical input is not linear to the output.\n"
   ]
  },
  {
   "cell_type": "markdown",
   "id": "f6cf41e7",
   "metadata": {},
   "source": [
    "My plan proposed during the meeting is:\n",
    "\n",
    "sale (in unit) ~ everything else\n",
    "\n",
    "everything else = price + department_id + store_id + weekly_id + event\n",
    "\n",
    "From the original dataset:\n",
    "\n",
    "1. manipulate the dataframe to the way we desire.\n",
    "\n",
    "2. combine daily usales to weekly sales, pair each week with events (joined from calendar.csv)\n",
    "\n",
    "3. pair each weekly sales with its correspondance price (joined from sales_price.csv)\n",
    "\n",
    "And that's it. It is actualy easier than the first plan because for the first plan, to get the revenue, we have to visit price no matter how.\n",
    "\n",
    "for each data point, we will have: sales, store_id, department_id, week_id, and event.\n",
    "\n",
    "In this case, dependent var will be the sales, independent var will be the rest of them. We will have store_id, department_id and event as categorical and create dummy var for them (9 + 6 + 4 cols). We will treat week_id as numerical or categorical (not sure yet).\n",
    "\n",
    "The size of training data will be 278 weeks * 3049 items * 10 stores = 8476220 rows and 9+6+4+1+1=21 columns (8476220, 21).\n",
    "\n",
    "The size of testing data will be 4 weeks * 3049 items * 10 stores = 121960 rows.\n",
    "\n",
    "The benefit of doing this is:\n",
    "\n",
    "1. price is has linear relationship with sales.\n",
    "\n",
    "2. data preprocessing load is no higher than the first plan.\n",
    "\n",
    "3. more rows could lead to more accurate model (maybe).\n"
   ]
  },
  {
   "cell_type": "code",
   "execution_count": null,
   "id": "c598d716",
   "metadata": {},
   "outputs": [],
   "source": [
    "278*3049*10"
   ]
  },
  {
   "cell_type": "code",
   "execution_count": null,
   "id": "57111c8d",
   "metadata": {},
   "outputs": [],
   "source": [
    "import pandas as pd\n",
    "import numpy as np"
   ]
  },
  {
   "cell_type": "code",
   "execution_count": null,
   "id": "36e212cc",
   "metadata": {},
   "outputs": [],
   "source": [
    "# Set working directory\n",
    "import sys, os\n",
    "os.chdir(sys.path[0])\n",
    "\n",
    "sys.path[0]"
   ]
  },
  {
   "cell_type": "code",
   "execution_count": null,
   "id": "9ac16723",
   "metadata": {},
   "outputs": [],
   "source": [
    "df = pd.read_csv('Data/sales_train_evaluation.csv')"
   ]
  },
  {
   "cell_type": "code",
   "execution_count": null,
   "id": "70990203",
   "metadata": {},
   "outputs": [],
   "source": [
    "df.head()"
   ]
  },
  {
   "cell_type": "code",
   "execution_count": null,
   "id": "57c3a9c3",
   "metadata": {},
   "outputs": [],
   "source": [
    "df_day = df.melt(id_vars=['id', 'item_id', 'dept_id', 'cat_id', 'store_id', 'state_id'], \n",
    "        var_name='day', \n",
    "        value_name='sales')"
   ]
  },
  {
   "cell_type": "code",
   "execution_count": null,
   "id": "31daed26",
   "metadata": {},
   "outputs": [],
   "source": [
    "df_day.head()"
   ]
  },
  {
   "cell_type": "code",
   "execution_count": null,
   "id": "0f24191c",
   "metadata": {},
   "outputs": [],
   "source": [
    "df_day_copy = df_day.copy()\n",
    "# df_day = df_day_copy.copy()"
   ]
  },
  {
   "cell_type": "code",
   "execution_count": null,
   "id": "6b830f46",
   "metadata": {},
   "outputs": [],
   "source": [
    "df_day.shape"
   ]
  },
  {
   "cell_type": "code",
   "execution_count": null,
   "id": "3d7c7819",
   "metadata": {
    "scrolled": true
   },
   "outputs": [],
   "source": [
    "30490*1941"
   ]
  },
  {
   "cell_type": "code",
   "execution_count": null,
   "id": "575579fc",
   "metadata": {},
   "outputs": [],
   "source": [
    "df_day.drop(['id','cat_id','state_id'], axis=1, inplace=True)"
   ]
  },
  {
   "cell_type": "code",
   "execution_count": null,
   "id": "84c9ee40",
   "metadata": {},
   "outputs": [],
   "source": [
    "df_day.head()"
   ]
  },
  {
   "cell_type": "code",
   "execution_count": null,
   "id": "67d6550f",
   "metadata": {},
   "outputs": [],
   "source": [
    "df_day['day'] = df_day['day'].apply(lambda x: int(x.split('_')[1]))"
   ]
  },
  {
   "cell_type": "code",
   "execution_count": null,
   "id": "59423435",
   "metadata": {},
   "outputs": [],
   "source": [
    "df_day['week'] = df_day['day']//7+1"
   ]
  },
  {
   "cell_type": "code",
   "execution_count": null,
   "id": "fbf2bfdd",
   "metadata": {},
   "outputs": [],
   "source": [
    "df_day['day']"
   ]
  },
  {
   "cell_type": "code",
   "execution_count": null,
   "id": "681244b7",
   "metadata": {},
   "outputs": [],
   "source": [
    "df_day['week']"
   ]
  },
  {
   "cell_type": "code",
   "execution_count": null,
   "id": "46bf7f09",
   "metadata": {
    "scrolled": true
   },
   "outputs": [],
   "source": [
    "df_day.head()"
   ]
  },
  {
   "cell_type": "markdown",
   "id": "f74f4890",
   "metadata": {},
   "source": [
    "From here we can join df_cal with df_day by column 'd' to get the wm_yr_wk and event. After that, we can do something like below to get the weekly sales. With 'wm_yr_wk', 'item_id', 'store_id' we can get price from sell_prices.csv.\n",
    "\n",
    "after that item_id will be replaced by price in df_week so we have our num var.\n",
    "\n",
    "Things to pay attention: \n",
    "\n",
    "1. find a way to aggregate event weekly.\n",
    "\n",
    "2. the numerical week is the one I mentioned to be treated as input. We need somehow find a way to link it with wm_yr_week to make sure it is accurate. Right now I think it needs calibration."
   ]
  },
  {
   "cell_type": "code",
   "execution_count": null,
   "id": "fa797827",
   "metadata": {},
   "outputs": [],
   "source": [
    "df_cal = pd.read_csv('Data/calendar.csv')"
   ]
  },
  {
   "cell_type": "code",
   "execution_count": null,
   "id": "5499b100",
   "metadata": {},
   "outputs": [],
   "source": [
    "df_cal['d'] = df_cal['d'].apply(lambda x: int(x.split('_')[1]))"
   ]
  },
  {
   "cell_type": "code",
   "execution_count": null,
   "id": "0ef17147",
   "metadata": {},
   "outputs": [],
   "source": [
    "df_cal.shape"
   ]
  },
  {
   "cell_type": "code",
   "execution_count": null,
   "id": "ff182be4",
   "metadata": {},
   "outputs": [],
   "source": [
    "df_cal.head(20)"
   ]
  },
  {
   "cell_type": "markdown",
   "id": "05940218",
   "metadata": {},
   "source": [
    "It seems that for col 'wm_yr_wk', the first three digits is the year, the last two is the week."
   ]
  },
  {
   "cell_type": "code",
   "execution_count": null,
   "id": "ecaf314a",
   "metadata": {},
   "outputs": [],
   "source": [
    "df_event = df_cal.loc[:,['wm_yr_wk', 'event_type_1', 'event_type_2']]\n",
    "df_event.head()"
   ]
  },
  {
   "cell_type": "code",
   "execution_count": null,
   "id": "35a128ab",
   "metadata": {},
   "outputs": [],
   "source": [
    "df_event = pd.get_dummies(df_event)\n",
    "df_event.head()"
   ]
  },
  {
   "cell_type": "code",
   "execution_count": null,
   "id": "b2bc045c",
   "metadata": {},
   "outputs": [],
   "source": [
    "df_event = df_event.groupby(['wm_yr_wk'], as_index=False).sum()"
   ]
  },
  {
   "cell_type": "code",
   "execution_count": null,
   "id": "a9c24698",
   "metadata": {},
   "outputs": [],
   "source": [
    "df_event.head()"
   ]
  },
  {
   "cell_type": "code",
   "execution_count": null,
   "id": "bc380adf",
   "metadata": {},
   "outputs": [],
   "source": [
    "df_event.describe()"
   ]
  },
  {
   "cell_type": "code",
   "execution_count": null,
   "id": "b4d16a66",
   "metadata": {},
   "outputs": [],
   "source": [
    "(df_event.event_type_1_Religious == 2).sum()"
   ]
  },
  {
   "cell_type": "code",
   "execution_count": null,
   "id": "03637edb",
   "metadata": {},
   "outputs": [],
   "source": [
    "df_day = df_day.merge(df_cal.loc[:,['wm_yr_wk','d']],left_on='day',right_on='d')"
   ]
  },
  {
   "cell_type": "code",
   "execution_count": null,
   "id": "eed8f7a2",
   "metadata": {},
   "outputs": [],
   "source": [
    "df_day.drop(['day','d'],axis=1,inplace=True)\n",
    "df_day.rename(columns={'week':'week_id'},inplace=True)"
   ]
  },
  {
   "cell_type": "code",
   "execution_count": null,
   "id": "665389ac",
   "metadata": {},
   "outputs": [],
   "source": [
    "df_day.head()"
   ]
  },
  {
   "cell_type": "code",
   "execution_count": null,
   "id": "423cda34",
   "metadata": {},
   "outputs": [],
   "source": [
    "df_week = df_day.groupby(['item_id','wm_yr_wk','dept_id','store_id'], as_index=False).sum()"
   ]
  },
  {
   "cell_type": "code",
   "execution_count": null,
   "id": "22e78fa4",
   "metadata": {},
   "outputs": [],
   "source": [
    "df_week_copy = df_week.copy()\n",
    "#df_week = df_week_copy.copy()"
   ]
  },
  {
   "cell_type": "code",
   "execution_count": null,
   "id": "48052f2e",
   "metadata": {},
   "outputs": [],
   "source": [
    "df_week.drop(['week_id'],axis=1,inplace=True)"
   ]
  },
  {
   "cell_type": "code",
   "execution_count": null,
   "id": "5ffe981d",
   "metadata": {},
   "outputs": [],
   "source": [
    "df_week.shape"
   ]
  },
  {
   "cell_type": "code",
   "execution_count": null,
   "id": "8d4e856c",
   "metadata": {},
   "outputs": [],
   "source": [
    "df_week.head(10)"
   ]
  },
  {
   "cell_type": "code",
   "execution_count": null,
   "id": "8e613930",
   "metadata": {},
   "outputs": [],
   "source": [
    "278*30490"
   ]
  },
  {
   "cell_type": "code",
   "execution_count": null,
   "id": "21c3807c",
   "metadata": {},
   "outputs": [],
   "source": [
    "df_price = pd.read_csv('Data/sell_prices.csv')"
   ]
  },
  {
   "cell_type": "code",
   "execution_count": null,
   "id": "c06c1fe2",
   "metadata": {},
   "outputs": [],
   "source": [
    "df_price.head()"
   ]
  },
  {
   "cell_type": "code",
   "execution_count": null,
   "id": "e651b073",
   "metadata": {
    "scrolled": true
   },
   "outputs": [],
   "source": [
    "df_price.shape"
   ]
  },
  {
   "cell_type": "code",
   "execution_count": null,
   "id": "b2726c02",
   "metadata": {},
   "outputs": [],
   "source": [
    "df_week = df_week.merge(df_price, how='left' ,left_on=['store_id', 'item_id', 'wm_yr_wk'], right_on=['store_id', 'item_id', 'wm_yr_wk'])"
   ]
  },
  {
   "cell_type": "code",
   "execution_count": null,
   "id": "1786e104",
   "metadata": {},
   "outputs": [],
   "source": [
    "df_week = df_week.merge(df_event, how='left', left_on='wm_yr_wk', right_on='wm_yr_wk')"
   ]
  },
  {
   "cell_type": "code",
   "execution_count": null,
   "id": "178d9e24",
   "metadata": {},
   "outputs": [],
   "source": [
    "df_week.head(10)"
   ]
  },
  {
   "cell_type": "code",
   "execution_count": null,
   "id": "b35c6f71",
   "metadata": {},
   "outputs": [],
   "source": [
    "df_week.shape"
   ]
  },
  {
   "cell_type": "markdown",
   "id": "b653290a-d1b5-4cfa-aa2c-8bb2b6704c6e",
   "metadata": {},
   "source": [
    "Aggregate by store:"
   ]
  },
  {
   "cell_type": "code",
   "execution_count": null,
   "id": "15e26715-04dc-4484-8e08-c18180fc9897",
   "metadata": {},
   "outputs": [],
   "source": [
    "df_week['revenue'] = df_week.apply(lambda x: x.sales * x.sell_price, axis=1)"
   ]
  },
  {
   "cell_type": "code",
   "execution_count": null,
   "id": "a2e882cf-b4a6-41c7-86bb-6675615203d2",
   "metadata": {},
   "outputs": [],
   "source": [
    "df_week.head(10)"
   ]
  },
  {
   "cell_type": "code",
   "execution_count": null,
   "id": "2cd488cc-beb8-483b-8886-9be155d0cbfd",
   "metadata": {},
   "outputs": [],
   "source": [
    "df_week['sell_price'].isna().sum()"
   ]
  },
  {
   "cell_type": "code",
   "execution_count": null,
   "id": "628cfa33-a377-47a7-9ead-58080de6f835",
   "metadata": {},
   "outputs": [],
   "source": [
    "df_week['sales'].isna().sum()"
   ]
  },
  {
   "cell_type": "code",
   "execution_count": null,
   "id": "441eda7e-91f0-4b91-b8a7-edb57fcb1f72",
   "metadata": {},
   "outputs": [],
   "source": [
    "((df_week['sell_price'].isna()) & (df_week['sales'] != 0)).sum()"
   ]
  },
  {
   "cell_type": "code",
   "execution_count": null,
   "id": "a3f8a7e8-901d-42ba-9499-5476ba5681fe",
   "metadata": {},
   "outputs": [],
   "source": [
    "df_week_store = df_week.drop(['item_id', 'dept_id', 'sales', 'sell_price'], axis=1)\n",
    "df_week_store.head(10)"
   ]
  },
  {
   "cell_type": "code",
   "execution_count": null,
   "id": "3b453496-d826-4707-b03a-1ea7098e5e30",
   "metadata": {},
   "outputs": [],
   "source": [
    "df_week_store = df_week_store.groupby(['store_id','wm_yr_wk'], as_index=False).sum()"
   ]
  },
  {
   "cell_type": "code",
   "execution_count": null,
   "id": "e706a493-bdfb-4468-9563-de716b1a7a3f",
   "metadata": {},
   "outputs": [],
   "source": [
    "df_week_store.shape"
   ]
  },
  {
   "cell_type": "code",
   "execution_count": null,
   "id": "d696a8c9-266c-4f79-b697-edea25ecb498",
   "metadata": {},
   "outputs": [],
   "source": [
    "df_week_store.head()"
   ]
  },
  {
   "cell_type": "code",
   "execution_count": null,
   "id": "8c2ac383-5630-4cfb-8e0e-0f9bfc5b086f",
   "metadata": {},
   "outputs": [],
   "source": [
    "df_week_store.describe()"
   ]
  },
  {
   "cell_type": "code",
   "execution_count": null,
   "id": "686365d3-63e3-4136-aa13-21045785e259",
   "metadata": {},
   "outputs": [],
   "source": [
    "df_week_store[['event_type_1_Cultural', 'event_type_1_National', 'event_type_1_Religious', 'event_type_1_Sporting', 'event_type_2_Cultural', 'event_type_2_Religious']] = \\\n",
    "(df_week_store[['event_type_1_Cultural', 'event_type_1_National', 'event_type_1_Religious', 'event_type_1_Sporting', 'event_type_2_Cultural', 'event_type_2_Religious']]\\\n",
    " /3049).astype(int)"
   ]
  },
  {
   "cell_type": "code",
   "execution_count": null,
   "id": "956ffecc-4dcb-4192-a02d-9e6028c37fb2",
   "metadata": {},
   "outputs": [],
   "source": [
    "df_week_store.store_id.nunique()"
   ]
  },
  {
   "cell_type": "code",
   "execution_count": null,
   "id": "3faa2949-a19e-4e79-9149-2b8770c0d67a",
   "metadata": {},
   "outputs": [],
   "source": [
    "df_dummy = pd.get_dummies(df_week_store['store_id'], prefix='store_id').iloc[:,:-1]"
   ]
  },
  {
   "cell_type": "code",
   "execution_count": null,
   "id": "350f5d08-c051-489e-ae39-4829ba71299e",
   "metadata": {},
   "outputs": [],
   "source": [
    "df_week_store = pd.concat([df_week_store.iloc[:,1:], df_dummy], axis=1)"
   ]
  },
  {
   "cell_type": "code",
   "execution_count": null,
   "id": "a2079d22-c84b-46b1-89ac-7a022601230f",
   "metadata": {},
   "outputs": [],
   "source": [
    "df_week_store.head(10)"
   ]
  },
  {
   "cell_type": "code",
   "execution_count": null,
   "id": "4a113d21-3efb-4a6f-a431-ea6109e35c95",
   "metadata": {},
   "outputs": [],
   "source": [
    "df_week_store.shape"
   ]
  },
  {
   "cell_type": "code",
   "execution_count": null,
   "id": "d2732e9d-5377-412f-af3f-eee93d508552",
   "metadata": {},
   "outputs": [],
   "source": [
    "df_week_store.isna().sum()"
   ]
  },
  {
   "cell_type": "code",
   "execution_count": 1,
   "id": "840b4a84-5db1-4ea5-8999-ffc821149a71",
   "metadata": {},
   "outputs": [
    {
     "name": "stdout",
     "output_type": "stream",
     "text": [
      "<class 'pandas.core.frame.DataFrame'>\n",
      "DatetimeIndex: 1355 entries, 2011-01-31 to 2016-06-17\n",
      "Data columns (total 6 columns):\n",
      " #   Column     Non-Null Count  Dtype  \n",
      "---  ------     --------------  -----  \n",
      " 0   High       1355 non-null   float64\n",
      " 1   Low        1355 non-null   float64\n",
      " 2   Open       1355 non-null   float64\n",
      " 3   Close      1355 non-null   float64\n",
      " 4   Volume     1355 non-null   int64  \n",
      " 5   Adj Close  1355 non-null   float64\n",
      "dtypes: float64(5), int64(1)\n",
      "memory usage: 74.1 KB\n",
      "None\n"
     ]
    },
    {
     "data": {
      "text/plain": [
       "Date\n",
       "2011-01-31     8.482000\n",
       "2011-02-01     8.605500\n",
       "2011-02-02     8.676500\n",
       "2011-02-03     8.685500\n",
       "2011-02-04     8.796500\n",
       "                ...    \n",
       "2016-06-13    35.762001\n",
       "2016-06-14    35.965000\n",
       "2016-06-15    35.713001\n",
       "2016-06-16    35.875500\n",
       "2016-06-17    35.319500\n",
       "Name: Adj Close, Length: 1355, dtype: float64"
      ]
     },
     "execution_count": 1,
     "metadata": {},
     "output_type": "execute_result"
    }
   ],
   "source": [
    "import pandas_datareader as pdr\n",
    "\n",
    "start_date = '2011-01-29'\n",
    "end_date = '2016-06-19' \n",
    "\n",
    "# Request data via Yahoo public API\n",
    "data = pdr.get_data_yahoo('AMZN', start_date, end_date)\n",
    "\n",
    "# Display Info\n",
    "print(data.info())\n",
    "\n",
    "data['Adj Close']"
   ]
  },
  {
   "cell_type": "code",
   "execution_count": 5,
   "id": "8b2f2f0f",
   "metadata": {},
   "outputs": [
    {
     "data": {
      "text/plain": [
       "1355"
      ]
     },
     "execution_count": 5,
     "metadata": {},
     "output_type": "execute_result"
    }
   ],
   "source": [
    "len(data)"
   ]
  },
  {
   "cell_type": "code",
   "execution_count": null,
   "id": "673e090f",
   "metadata": {},
   "outputs": [],
   "source": []
  }
 ],
 "metadata": {
  "kernelspec": {
   "display_name": "Python 3",
   "language": "python",
   "name": "python3"
  },
  "language_info": {
   "codemirror_mode": {
    "name": "ipython",
    "version": 3
   },
   "file_extension": ".py",
   "mimetype": "text/x-python",
   "name": "python",
   "nbconvert_exporter": "python",
   "pygments_lexer": "ipython3",
   "version": "3.8.8"
  }
 },
 "nbformat": 4,
 "nbformat_minor": 5
}
