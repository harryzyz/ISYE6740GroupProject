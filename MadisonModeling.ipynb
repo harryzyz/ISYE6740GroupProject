{
 "cells": [
  {
   "cell_type": "code",
   "execution_count": 1,
   "id": "043d5925",
   "metadata": {},
   "outputs": [],
   "source": [
    "# Load packages\n",
    "import matplotlib.image as img\n",
    "import matplotlib.pyplot as plt\n",
    "import numpy as np\n",
    "from scipy.sparse import csc_matrix, find\n",
    "import random\n",
    "import time\n",
    "import pandas as pd\n",
    "import pprint\n",
    "from scipy.sparse import csgraph\n",
    "from os.path import abspath, exists\n",
    "from scipy import sparse\n",
    "from sklearn.cluster import KMeans\n",
    "from sklearn import preprocessing\n",
    "import scipy.sparse.linalg \n",
    "import math\n",
    "import scipy.io\n",
    "import networkx as nx\n",
    "import sklearn\n",
    "import seaborn as sns\n",
    "from scipy import stats\n",
    "from IPython.display import Image\n",
    "from scipy import ndimage\n",
    "from scipy.stats import multivariate_normal as mvn\n",
    "from scipy.stats import norm\n",
    "from sklearn.linear_model import Lasso\n",
    "from sklearn.model_selection import KFold, GridSearchCV\n",
    "\n",
    "from sklearn.model_selection import train_test_split # for splitting the data into train and test samples\n",
    "from sklearn.metrics import classification_report # for model evaluation metrics\n",
    "from sklearn import tree # for decision tree models\n",
    "from sklearn.ensemble import RandomForestRegressor\n",
    "from sklearn.metrics import accuracy_score\n",
    "from sklearn.model_selection import RandomizedSearchCV\n",
    "\n",
    "import plotly.express as px  # for data visualization\n",
    "import plotly.graph_objects as go # for data visualization\n",
    "import graphviz # for plotting decision tree graphs\n",
    "\n",
    "from sklearn.svm import OneClassSVM\n",
    "\n",
    "from scipy.linalg.interpolative import estimate_spectral_norm\\\n",
    "\n",
    "import statistics\n",
    "from scipy.stats import randint as sp_randint\n",
    "\n",
    "from sklearn.linear_model import LassoCV\n",
    "from sklearn.model_selection import RepeatedKFold\n",
    "\n",
    "from numpy import arange"
   ]
  },
  {
   "cell_type": "code",
   "execution_count": 2,
   "id": "a0993c30",
   "metadata": {
    "scrolled": true
   },
   "outputs": [],
   "source": [
    "# Read in data\n",
    "walmart = pd.read_csv('Data/task_4_2.csv', sep=\",\", header = 0)"
   ]
  },
  {
   "cell_type": "code",
   "execution_count": 3,
   "id": "dbb5d753",
   "metadata": {},
   "outputs": [
    {
     "data": {
      "text/html": [
       "<div>\n",
       "<style scoped>\n",
       "    .dataframe tbody tr th:only-of-type {\n",
       "        vertical-align: middle;\n",
       "    }\n",
       "\n",
       "    .dataframe tbody tr th {\n",
       "        vertical-align: top;\n",
       "    }\n",
       "\n",
       "    .dataframe thead th {\n",
       "        text-align: right;\n",
       "    }\n",
       "</style>\n",
       "<table border=\"1\" class=\"dataframe\">\n",
       "  <thead>\n",
       "    <tr style=\"text-align: right;\">\n",
       "      <th></th>\n",
       "      <th>wm_yr_wk</th>\n",
       "      <th>store_id</th>\n",
       "      <th>week_id</th>\n",
       "      <th>Cultural</th>\n",
       "      <th>Sporting</th>\n",
       "      <th>National</th>\n",
       "      <th>Religious</th>\n",
       "      <th>weekly_revenue</th>\n",
       "      <th>pct_change_price</th>\n",
       "      <th>log_pct_change</th>\n",
       "      <th>...</th>\n",
       "      <th>store_id_WI_3</th>\n",
       "      <th>price_CA</th>\n",
       "      <th>price_WI</th>\n",
       "      <th>price_TX</th>\n",
       "      <th>amzn_price</th>\n",
       "      <th>gas_price</th>\n",
       "      <th>log_amzn_price</th>\n",
       "      <th>log_weekly_revenue</th>\n",
       "      <th>log_gas_price</th>\n",
       "      <th>item_on</th>\n",
       "    </tr>\n",
       "  </thead>\n",
       "  <tbody>\n",
       "    <tr>\n",
       "      <th>0</th>\n",
       "      <td>11101</td>\n",
       "      <td>CA_1</td>\n",
       "      <td>1</td>\n",
       "      <td>0</td>\n",
       "      <td>0</td>\n",
       "      <td>0</td>\n",
       "      <td>0</td>\n",
       "      <td>58387.95</td>\n",
       "      <td>0.0</td>\n",
       "      <td>-1.372832</td>\n",
       "      <td>...</td>\n",
       "      <td>0</td>\n",
       "      <td>3.364</td>\n",
       "      <td>3.086</td>\n",
       "      <td>2.933</td>\n",
       "      <td>8.6492</td>\n",
       "      <td>3.364</td>\n",
       "      <td>2.157467</td>\n",
       "      <td>10.974865</td>\n",
       "      <td>1.213131</td>\n",
       "      <td>1204</td>\n",
       "    </tr>\n",
       "    <tr>\n",
       "      <th>1</th>\n",
       "      <td>11101</td>\n",
       "      <td>CA_2</td>\n",
       "      <td>1</td>\n",
       "      <td>0</td>\n",
       "      <td>0</td>\n",
       "      <td>0</td>\n",
       "      <td>0</td>\n",
       "      <td>46441.75</td>\n",
       "      <td>0.0</td>\n",
       "      <td>-1.372832</td>\n",
       "      <td>...</td>\n",
       "      <td>0</td>\n",
       "      <td>3.364</td>\n",
       "      <td>3.086</td>\n",
       "      <td>2.933</td>\n",
       "      <td>8.6492</td>\n",
       "      <td>3.364</td>\n",
       "      <td>2.157467</td>\n",
       "      <td>10.745954</td>\n",
       "      <td>1.213131</td>\n",
       "      <td>1035</td>\n",
       "    </tr>\n",
       "    <tr>\n",
       "      <th>2</th>\n",
       "      <td>11101</td>\n",
       "      <td>CA_3</td>\n",
       "      <td>1</td>\n",
       "      <td>0</td>\n",
       "      <td>0</td>\n",
       "      <td>0</td>\n",
       "      <td>0</td>\n",
       "      <td>74800.93</td>\n",
       "      <td>0.0</td>\n",
       "      <td>-1.372832</td>\n",
       "      <td>...</td>\n",
       "      <td>0</td>\n",
       "      <td>3.364</td>\n",
       "      <td>3.086</td>\n",
       "      <td>2.933</td>\n",
       "      <td>8.6492</td>\n",
       "      <td>3.364</td>\n",
       "      <td>2.157467</td>\n",
       "      <td>11.222586</td>\n",
       "      <td>1.213131</td>\n",
       "      <td>1223</td>\n",
       "    </tr>\n",
       "    <tr>\n",
       "      <th>3</th>\n",
       "      <td>11101</td>\n",
       "      <td>CA_4</td>\n",
       "      <td>1</td>\n",
       "      <td>0</td>\n",
       "      <td>0</td>\n",
       "      <td>0</td>\n",
       "      <td>0</td>\n",
       "      <td>27817.34</td>\n",
       "      <td>0.0</td>\n",
       "      <td>-1.372832</td>\n",
       "      <td>...</td>\n",
       "      <td>0</td>\n",
       "      <td>3.364</td>\n",
       "      <td>3.086</td>\n",
       "      <td>2.933</td>\n",
       "      <td>8.6492</td>\n",
       "      <td>3.364</td>\n",
       "      <td>2.157467</td>\n",
       "      <td>10.233415</td>\n",
       "      <td>1.213131</td>\n",
       "      <td>1053</td>\n",
       "    </tr>\n",
       "    <tr>\n",
       "      <th>4</th>\n",
       "      <td>11101</td>\n",
       "      <td>TX_1</td>\n",
       "      <td>1</td>\n",
       "      <td>0</td>\n",
       "      <td>0</td>\n",
       "      <td>0</td>\n",
       "      <td>0</td>\n",
       "      <td>38676.37</td>\n",
       "      <td>0.0</td>\n",
       "      <td>-1.372832</td>\n",
       "      <td>...</td>\n",
       "      <td>0</td>\n",
       "      <td>3.364</td>\n",
       "      <td>3.086</td>\n",
       "      <td>2.933</td>\n",
       "      <td>8.6492</td>\n",
       "      <td>2.933</td>\n",
       "      <td>2.157467</td>\n",
       "      <td>10.562984</td>\n",
       "      <td>1.076026</td>\n",
       "      <td>1150</td>\n",
       "    </tr>\n",
       "  </tbody>\n",
       "</table>\n",
       "<p>5 rows × 29 columns</p>\n",
       "</div>"
      ],
      "text/plain": [
       "   wm_yr_wk store_id  week_id  Cultural  Sporting  National  Religious  \\\n",
       "0     11101     CA_1        1         0         0         0          0   \n",
       "1     11101     CA_2        1         0         0         0          0   \n",
       "2     11101     CA_3        1         0         0         0          0   \n",
       "3     11101     CA_4        1         0         0         0          0   \n",
       "4     11101     TX_1        1         0         0         0          0   \n",
       "\n",
       "   weekly_revenue  pct_change_price  log_pct_change  ...  store_id_WI_3  \\\n",
       "0        58387.95               0.0       -1.372832  ...              0   \n",
       "1        46441.75               0.0       -1.372832  ...              0   \n",
       "2        74800.93               0.0       -1.372832  ...              0   \n",
       "3        27817.34               0.0       -1.372832  ...              0   \n",
       "4        38676.37               0.0       -1.372832  ...              0   \n",
       "\n",
       "   price_CA  price_WI  price_TX  amzn_price  gas_price  log_amzn_price  \\\n",
       "0     3.364     3.086     2.933      8.6492      3.364        2.157467   \n",
       "1     3.364     3.086     2.933      8.6492      3.364        2.157467   \n",
       "2     3.364     3.086     2.933      8.6492      3.364        2.157467   \n",
       "3     3.364     3.086     2.933      8.6492      3.364        2.157467   \n",
       "4     3.364     3.086     2.933      8.6492      2.933        2.157467   \n",
       "\n",
       "   log_weekly_revenue  log_gas_price  item_on  \n",
       "0           10.974865       1.213131     1204  \n",
       "1           10.745954       1.213131     1035  \n",
       "2           11.222586       1.213131     1223  \n",
       "3           10.233415       1.213131     1053  \n",
       "4           10.562984       1.076026     1150  \n",
       "\n",
       "[5 rows x 29 columns]"
      ]
     },
     "execution_count": 3,
     "metadata": {},
     "output_type": "execute_result"
    }
   ],
   "source": [
    "# View head of data\n",
    "walmart.head()"
   ]
  },
  {
   "cell_type": "code",
   "execution_count": 4,
   "id": "f6ea9871",
   "metadata": {},
   "outputs": [
    {
     "data": {
      "text/plain": [
       "<AxesSubplot:xlabel='Cultural', ylabel='weekly_revenue'>"
      ]
     },
     "execution_count": 4,
     "metadata": {},
     "output_type": "execute_result"
    },
    {
     "data": {
      "image/png": "[encoded data removed]",
      "text/plain": [
       "<Figure size 432x288 with 1 Axes>"
      ]
     },
     "metadata": {
      "needs_background": "light"
     },
     "output_type": "display_data"
    }
   ],
   "source": [
    "sns.barplot(x='Cultural', y='weekly_revenue', data=walmart)"
   ]
  },
  {
   "cell_type": "code",
   "execution_count": 5,
   "id": "8cfc674b",
   "metadata": {},
   "outputs": [
    {
     "data": {
      "text/plain": [
       "<AxesSubplot:xlabel='Sporting', ylabel='weekly_revenue'>"
      ]
     },
     "execution_count": 5,
     "metadata": {},
     "output_type": "execute_result"
    },
    {
     "data": {
      "image/png": "[encoded data removed]",
      "text/plain": [
       "<Figure size 432x288 with 1 Axes>"
      ]
     },
     "metadata": {
      "needs_background": "light"
     },
     "output_type": "display_data"
    }
   ],
   "source": [
    "sns.barplot(x='Sporting', y='weekly_revenue', data=walmart)"
   ]
  },
  {
   "cell_type": "code",
   "execution_count": 6,
   "id": "a9cc0766",
   "metadata": {},
   "outputs": [
    {
     "data": {
      "text/plain": [
       "<AxesSubplot:xlabel='National', ylabel='weekly_revenue'>"
      ]
     },
     "execution_count": 6,
     "metadata": {},
     "output_type": "execute_result"
    },
    {
     "data": {
      "image/png": "[encoded data removed]",
      "text/plain": [
       "<Figure size 432x288 with 1 Axes>"
      ]
     },
     "metadata": {
      "needs_background": "light"
     },
     "output_type": "display_data"
    }
   ],
   "source": [
    "sns.barplot(x='National', y='weekly_revenue', data=walmart)"
   ]
  },
  {
   "cell_type": "code",
   "execution_count": 7,
   "id": "b6303db2",
   "metadata": {},
   "outputs": [
    {
     "data": {
      "text/plain": [
       "<AxesSubplot:xlabel='Religious', ylabel='weekly_revenue'>"
      ]
     },
     "execution_count": 7,
     "metadata": {},
     "output_type": "execute_result"
    },
    {
     "data": {
      "image/png": "[encoded data removed]",
      "text/plain": [
       "<Figure size 432x288 with 1 Axes>"
      ]
     },
     "metadata": {
      "needs_background": "light"
     },
     "output_type": "display_data"
    }
   ],
   "source": [
    "sns.barplot(x='Religious', y='weekly_revenue', data=walmart)"
   ]
  },
  {
   "cell_type": "markdown",
   "id": "719fe736",
   "metadata": {},
   "source": [
    "Could look at specific holidays to see if some make a difference. For instance, Christmas and Thanksgiving likely do affect revenue while Labor Day may not have an effect. However, this is not possible with weekly data."
   ]
  },
  {
   "cell_type": "code",
   "execution_count": 8,
   "id": "46b16806",
   "metadata": {},
   "outputs": [
    {
     "data": {
      "image/png": "[encoded data removed]",
      "text/plain": [
       "<Figure size 1080x360 with 1 Axes>"
      ]
     },
     "metadata": {
      "needs_background": "light"
     },
     "output_type": "display_data"
    }
   ],
   "source": [
    "x = walmart['store_id']\n",
    "y = walmart['weekly_revenue']\n",
    "plt.figure(figsize=(15,5))\n",
    "plt.title('Weekly Revenue by Store ID')\n",
    "plt.xlabel('Store ID')\n",
    "plt.ylabel('Weekly Revenue')\n",
    "plt.scatter(x,y)\n",
    "plt.show()"
   ]
  },
  {
   "cell_type": "code",
   "execution_count": 9,
   "id": "9dff6a6a",
   "metadata": {},
   "outputs": [
    {
     "data": {
      "text/plain": [
       "<AxesSubplot:xlabel='gas_price'>"
      ]
     },
     "execution_count": 9,
     "metadata": {},
     "output_type": "execute_result"
    },
    {
     "data": {
      "image/png": "[encoded data removed]",
      "text/plain": [
       "<Figure size 432x288 with 1 Axes>"
      ]
     },
     "metadata": {
      "needs_background": "light"
     },
     "output_type": "display_data"
    }
   ],
   "source": [
    "gas_price = pd.pivot_table(walmart, values = \"weekly_revenue\", index= \"gas_price\")\n",
    "gas_price.plot()"
   ]
  },
  {
   "cell_type": "code",
   "execution_count": 10,
   "id": "4249681f",
   "metadata": {},
   "outputs": [
    {
     "data": {
      "text/plain": [
       "<AxesSubplot:xlabel='amzn_price'>"
      ]
     },
     "execution_count": 10,
     "metadata": {},
     "output_type": "execute_result"
    },
    {
     "data": {
      "image/png": "[encoded data removed]",
      "text/plain": [
       "<Figure size 432x288 with 1 Axes>"
      ]
     },
     "metadata": {
      "needs_background": "light"
     },
     "output_type": "display_data"
    }
   ],
   "source": [
    "amzn_price = pd.pivot_table(walmart, values = \"weekly_revenue\", index= \"amzn_price\")\n",
    "amzn_price.plot()"
   ]
  },
  {
   "cell_type": "code",
   "execution_count": 11,
   "id": "6f4324c4",
   "metadata": {},
   "outputs": [
    {
     "data": {
      "image/png": "[encoded data removed]",
      "text/plain": [
       "<Figure size 864x720 with 2 Axes>"
      ]
     },
     "metadata": {
      "needs_background": "light"
     },
     "output_type": "display_data"
    }
   ],
   "source": [
    "# Interactions between features\n",
    "plt.figure(figsize = (12,10))\n",
    "sns.heatmap(walmart.corr().abs())    # To see the correlations\n",
    "plt.show()"
   ]
  },
  {
   "cell_type": "code",
   "execution_count": 12,
   "id": "189ff0ea",
   "metadata": {},
   "outputs": [],
   "source": [
    "df_new = walmart.copy()\n",
    "\n",
    "# Subset to variables that seem appropriate - variables considered in linear regression\n",
    "# Variables - week_id, store_id, log_pct_change, store_id_WI_3, price_CA, price_WI, price_TX, gas_price, log_amzn_price, log_weekly_revenue\n",
    "drop_col = ['wm_yr_wk','week_id', 'store_id', 'log_pct_change', 'price_CA', 'price_WI', 'price_TX', 'log_amzn_price', 'log_weekly_revenue', 'log_gas_price']\n",
    "df_new.drop(drop_col, axis=1, inplace=True) # dropping columns"
   ]
  },
  {
   "cell_type": "code",
   "execution_count": 13,
   "id": "687def04",
   "metadata": {},
   "outputs": [
    {
     "data": {
      "image/png": "[encoded data removed]",
      "text/plain": [
       "<Figure size 864x720 with 2 Axes>"
      ]
     },
     "metadata": {
      "needs_background": "light"
     },
     "output_type": "display_data"
    }
   ],
   "source": [
    "# Interactions between features\n",
    "plt.figure(figsize = (12,10))\n",
    "sns.heatmap(df_new.corr().abs())    # To see the correlations\n",
    "plt.show()"
   ]
  },
  {
   "cell_type": "code",
   "execution_count": 14,
   "id": "c1dcd5d4",
   "metadata": {},
   "outputs": [],
   "source": [
    "# Create train/test splits\n",
    "X = df_new.drop('weekly_revenue', axis=1)\n",
    "y = df_new['weekly_revenue']\n",
    "X_train, X_test, y_train, y_test = train_test_split(X, y, test_size=0.3, random_state=273)"
   ]
  },
  {
   "cell_type": "markdown",
   "id": "aa78c5cc",
   "metadata": {},
   "source": [
    "## Random Forest"
   ]
  },
  {
   "cell_type": "code",
   "execution_count": 15,
   "id": "caf84f24",
   "metadata": {},
   "outputs": [
    {
     "data": {
      "text/plain": [
       "RandomForestRegressor(max_depth=19, max_features='sqrt', min_samples_split=10,\n",
       "                      n_estimators=250, n_jobs=-1, random_state=42)"
      ]
     },
     "execution_count": 15,
     "metadata": {},
     "output_type": "execute_result"
    }
   ],
   "source": [
    "# Train model\n",
    "RF_clf = RandomForestRegressor(n_estimators=250, random_state=42, n_jobs=-1, max_depth=19,\n",
    "                           max_features = 'sqrt',min_samples_split = 10)\n",
    "RF_clf.fit(X_train, y_train.values.ravel())"
   ]
  },
  {
   "cell_type": "code",
   "execution_count": 16,
   "id": "0942b312",
   "metadata": {},
   "outputs": [],
   "source": [
    "# Generate predictions\n",
    "y_pred_train_rf = RF_clf.predict(X_train)\n",
    "y_pred_test_rf = RF_clf.predict(X_test)"
   ]
  },
  {
   "cell_type": "code",
   "execution_count": 17,
   "id": "88d70b96",
   "metadata": {},
   "outputs": [
    {
     "name": "stdout",
     "output_type": "stream",
     "text": [
      "0.0446719674013375 0.06455148979424703\n"
     ]
    }
   ],
   "source": [
    "# Calculate MAPE\n",
    "mape_train = statistics.mean(abs((y_train - y_pred_train_rf)/y_train))\n",
    "\n",
    "mape_test = statistics.mean(abs((y_test - y_pred_test_rf)/y_test))\n",
    "\n",
    "print(mape_train, mape_test)"
   ]
  },
  {
   "cell_type": "code",
   "execution_count": 18,
   "id": "c1ccdbe9",
   "metadata": {},
   "outputs": [],
   "source": [
    "# Calculate test error by number of trees for RF\n",
    "min_ = 1\n",
    "max_ = 250\n",
    "\n",
    "num_trees = []\n",
    "rf_mape = []\n",
    "\n",
    "for i in range(min_, max_ + 1):\n",
    "    # Train\n",
    "    RFclf_plt = RandomForestRegressor(n_estimators=i, random_state=42, n_jobs=-1, max_depth=35,\n",
    "                           max_features = 'sqrt',min_samples_split = 10)\n",
    "    RFclf_plt.fit(X_train, y_train.values.ravel())\n",
    "    \n",
    "    # Predict\n",
    "    y_pred_test_rf_plt = RFclf_plt.predict(X_test)\n",
    "    \n",
    "    # Calculate error\n",
    "    rf_mape_plt = statistics.mean(abs((y_test - y_pred_test_rf_plt)/y_test))\n",
    "    num_trees.append(i)\n",
    "    rf_mape.append(rf_mape_plt)"
   ]
  },
  {
   "cell_type": "code",
   "execution_count": 19,
   "id": "edbd1f17",
   "metadata": {},
   "outputs": [
    {
     "data": {
      "text/plain": [
       "Text(0.5, 0, 'Number of Trees')"
      ]
     },
     "execution_count": 19,
     "metadata": {},
     "output_type": "execute_result"
    },
    {
     "data": {
      "image/png": "[encoded data removed]",
      "text/plain": [
       "<Figure size 432x288 with 1 Axes>"
      ]
     },
     "metadata": {
      "needs_background": "light"
     },
     "output_type": "display_data"
    }
   ],
   "source": [
    "# Plot test error by number of trees for RF vs CART error\n",
    "plt.plot(num_trees,rf_mape)\n",
    "plt.title('Test Error by Number of Trees for RF')\n",
    "plt.ylabel('Test Error')\n",
    "plt.xlabel('Number of Trees')"
   ]
  },
  {
   "cell_type": "code",
   "execution_count": 20,
   "id": "bf807b43",
   "metadata": {},
   "outputs": [
    {
     "data": {
      "text/html": [
       "<div>\n",
       "<style scoped>\n",
       "    .dataframe tbody tr th:only-of-type {\n",
       "        vertical-align: middle;\n",
       "    }\n",
       "\n",
       "    .dataframe tbody tr th {\n",
       "        vertical-align: top;\n",
       "    }\n",
       "\n",
       "    .dataframe thead th {\n",
       "        text-align: right;\n",
       "    }\n",
       "</style>\n",
       "<table border=\"1\" class=\"dataframe\">\n",
       "  <thead>\n",
       "    <tr style=\"text-align: right;\">\n",
       "      <th></th>\n",
       "      <th>num_trees</th>\n",
       "      <th>rf_mape</th>\n",
       "    </tr>\n",
       "  </thead>\n",
       "  <tbody>\n",
       "    <tr>\n",
       "      <th>0</th>\n",
       "      <td>1</td>\n",
       "      <td>0.129272</td>\n",
       "    </tr>\n",
       "    <tr>\n",
       "      <th>1</th>\n",
       "      <td>2</td>\n",
       "      <td>0.094870</td>\n",
       "    </tr>\n",
       "    <tr>\n",
       "      <th>2</th>\n",
       "      <td>3</td>\n",
       "      <td>0.085303</td>\n",
       "    </tr>\n",
       "    <tr>\n",
       "      <th>3</th>\n",
       "      <td>4</td>\n",
       "      <td>0.081304</td>\n",
       "    </tr>\n",
       "    <tr>\n",
       "      <th>4</th>\n",
       "      <td>5</td>\n",
       "      <td>0.077760</td>\n",
       "    </tr>\n",
       "    <tr>\n",
       "      <th>...</th>\n",
       "      <td>...</td>\n",
       "      <td>...</td>\n",
       "    </tr>\n",
       "    <tr>\n",
       "      <th>245</th>\n",
       "      <td>246</td>\n",
       "      <td>0.064865</td>\n",
       "    </tr>\n",
       "    <tr>\n",
       "      <th>246</th>\n",
       "      <td>247</td>\n",
       "      <td>0.064849</td>\n",
       "    </tr>\n",
       "    <tr>\n",
       "      <th>247</th>\n",
       "      <td>248</td>\n",
       "      <td>0.064891</td>\n",
       "    </tr>\n",
       "    <tr>\n",
       "      <th>248</th>\n",
       "      <td>249</td>\n",
       "      <td>0.064847</td>\n",
       "    </tr>\n",
       "    <tr>\n",
       "      <th>249</th>\n",
       "      <td>250</td>\n",
       "      <td>0.064847</td>\n",
       "    </tr>\n",
       "  </tbody>\n",
       "</table>\n",
       "<p>250 rows × 2 columns</p>\n",
       "</div>"
      ],
      "text/plain": [
       "     num_trees   rf_mape\n",
       "0            1  0.129272\n",
       "1            2  0.094870\n",
       "2            3  0.085303\n",
       "3            4  0.081304\n",
       "4            5  0.077760\n",
       "..         ...       ...\n",
       "245        246  0.064865\n",
       "246        247  0.064849\n",
       "247        248  0.064891\n",
       "248        249  0.064847\n",
       "249        250  0.064847\n",
       "\n",
       "[250 rows x 2 columns]"
      ]
     },
     "execution_count": 20,
     "metadata": {},
     "output_type": "execute_result"
    }
   ],
   "source": [
    "results = list(zip(num_trees, rf_mape))\n",
    "\n",
    "results2 = pd.DataFrame(results, columns = ['num_trees', 'rf_mape'])\n",
    "results2"
   ]
  },
  {
   "cell_type": "code",
   "execution_count": 21,
   "id": "8ba5e905",
   "metadata": {},
   "outputs": [
    {
     "data": {
      "text/plain": [
       "num_trees    250.000000\n",
       "rf_mape        0.064847\n",
       "Name: 249, dtype: float64"
      ]
     },
     "execution_count": 21,
     "metadata": {},
     "output_type": "execute_result"
    }
   ],
   "source": [
    "min_rf_err_index = results2['rf_mape'].idxmin()\n",
    "results2.iloc[min_rf_err_index,:]"
   ]
  },
  {
   "cell_type": "code",
   "execution_count": 22,
   "id": "9b569e30",
   "metadata": {},
   "outputs": [],
   "source": [
    "# Calculate test error by number of trees for RF\n",
    "min_ = 1\n",
    "max_ = 50\n",
    "\n",
    "num_trees = []\n",
    "rf_mape_2 = []\n",
    "\n",
    "for i in range(min_, max_ + 1):\n",
    "    # Train\n",
    "    RFclf_plt = RandomForestRegressor(n_estimators=250, random_state=42, n_jobs=-1, max_depth=i,\n",
    "                           max_features = 'sqrt',min_samples_split = 10)\n",
    "    RFclf_plt.fit(X_train, y_train.values.ravel())\n",
    "    \n",
    "    # Predict\n",
    "    y_pred_test_rf_plt = RFclf_plt.predict(X_test)\n",
    "    \n",
    "    # Calculate error\n",
    "    rf_mape_plt = statistics.mean(abs((y_test - y_pred_test_rf_plt)/y_test))\n",
    "    num_trees.append(i)\n",
    "    rf_mape_2.append(rf_mape_plt)"
   ]
  },
  {
   "cell_type": "code",
   "execution_count": 23,
   "id": "497cd930",
   "metadata": {},
   "outputs": [
    {
     "data": {
      "text/plain": [
       "Text(0.5, 0, 'Max Depth')"
      ]
     },
     "execution_count": 23,
     "metadata": {},
     "output_type": "execute_result"
    },
    {
     "data": {
      "image/png": "[encoded data removed]",
      "text/plain": [
       "<Figure size 432x288 with 1 Axes>"
      ]
     },
     "metadata": {
      "needs_background": "light"
     },
     "output_type": "display_data"
    }
   ],
   "source": [
    "# Plot test error by number of trees for RF vs CART error\n",
    "plt.plot(num_trees,rf_mape_2)\n",
    "plt.title('Test Error by Max Depth for RF')\n",
    "plt.ylabel('Test Error')\n",
    "plt.xlabel('Max Depth')"
   ]
  },
  {
   "cell_type": "code",
   "execution_count": 24,
   "id": "b3a04958",
   "metadata": {},
   "outputs": [
    {
     "data": {
      "text/html": [
       "<div>\n",
       "<style scoped>\n",
       "    .dataframe tbody tr th:only-of-type {\n",
       "        vertical-align: middle;\n",
       "    }\n",
       "\n",
       "    .dataframe tbody tr th {\n",
       "        vertical-align: top;\n",
       "    }\n",
       "\n",
       "    .dataframe thead th {\n",
       "        text-align: right;\n",
       "    }\n",
       "</style>\n",
       "<table border=\"1\" class=\"dataframe\">\n",
       "  <thead>\n",
       "    <tr style=\"text-align: right;\">\n",
       "      <th></th>\n",
       "      <th>max_depth</th>\n",
       "      <th>rf_mape</th>\n",
       "    </tr>\n",
       "  </thead>\n",
       "  <tbody>\n",
       "    <tr>\n",
       "      <th>0</th>\n",
       "      <td>1</td>\n",
       "      <td>0.129272</td>\n",
       "    </tr>\n",
       "    <tr>\n",
       "      <th>1</th>\n",
       "      <td>2</td>\n",
       "      <td>0.094870</td>\n",
       "    </tr>\n",
       "    <tr>\n",
       "      <th>2</th>\n",
       "      <td>3</td>\n",
       "      <td>0.085303</td>\n",
       "    </tr>\n",
       "    <tr>\n",
       "      <th>3</th>\n",
       "      <td>4</td>\n",
       "      <td>0.081304</td>\n",
       "    </tr>\n",
       "    <tr>\n",
       "      <th>4</th>\n",
       "      <td>5</td>\n",
       "      <td>0.077760</td>\n",
       "    </tr>\n",
       "    <tr>\n",
       "      <th>...</th>\n",
       "      <td>...</td>\n",
       "      <td>...</td>\n",
       "    </tr>\n",
       "    <tr>\n",
       "      <th>245</th>\n",
       "      <td>246</td>\n",
       "      <td>0.064865</td>\n",
       "    </tr>\n",
       "    <tr>\n",
       "      <th>246</th>\n",
       "      <td>247</td>\n",
       "      <td>0.064849</td>\n",
       "    </tr>\n",
       "    <tr>\n",
       "      <th>247</th>\n",
       "      <td>248</td>\n",
       "      <td>0.064891</td>\n",
       "    </tr>\n",
       "    <tr>\n",
       "      <th>248</th>\n",
       "      <td>249</td>\n",
       "      <td>0.064847</td>\n",
       "    </tr>\n",
       "    <tr>\n",
       "      <th>249</th>\n",
       "      <td>250</td>\n",
       "      <td>0.064847</td>\n",
       "    </tr>\n",
       "  </tbody>\n",
       "</table>\n",
       "<p>250 rows × 2 columns</p>\n",
       "</div>"
      ],
      "text/plain": [
       "     max_depth   rf_mape\n",
       "0            1  0.129272\n",
       "1            2  0.094870\n",
       "2            3  0.085303\n",
       "3            4  0.081304\n",
       "4            5  0.077760\n",
       "..         ...       ...\n",
       "245        246  0.064865\n",
       "246        247  0.064849\n",
       "247        248  0.064891\n",
       "248        249  0.064847\n",
       "249        250  0.064847\n",
       "\n",
       "[250 rows x 2 columns]"
      ]
     },
     "execution_count": 24,
     "metadata": {},
     "output_type": "execute_result"
    }
   ],
   "source": [
    "results3 = list(zip(num_trees, rf_mape_2))\n",
    "\n",
    "results4 = pd.DataFrame(results, columns = ['max_depth', 'rf_mape'])\n",
    "results4"
   ]
  },
  {
   "cell_type": "code",
   "execution_count": 25,
   "id": "aa2dde30",
   "metadata": {},
   "outputs": [
    {
     "data": {
      "text/plain": [
       "max_depth    250.000000\n",
       "rf_mape        0.064847\n",
       "Name: 249, dtype: float64"
      ]
     },
     "execution_count": 25,
     "metadata": {},
     "output_type": "execute_result"
    }
   ],
   "source": [
    "min_rf_err_index_2 = results4['rf_mape'].idxmin()\n",
    "results4.iloc[min_rf_err_index_2,:]"
   ]
  },
  {
   "cell_type": "code",
   "execution_count": 26,
   "id": "6d329a55",
   "metadata": {},
   "outputs": [
    {
     "name": "stdout",
     "output_type": "stream",
     "text": [
      "Feature ranking:\n",
      "1. feature 7 (0.393595)\n",
      "2. feature 17 (0.198681)\n",
      "3. feature 15 (0.095214)\n",
      "4. feature 8 (0.074699)\n",
      "5. feature 16 (0.064957)\n",
      "6. feature 5 (0.039415)\n",
      "7. feature 12 (0.021637)\n",
      "8. feature 9 (0.019608)\n",
      "9. feature 4 (0.018636)\n",
      "10. feature 14 (0.018364)\n",
      "11. feature 10 (0.016444)\n",
      "12. feature 13 (0.014186)\n",
      "13. feature 6 (0.012349)\n",
      "14. feature 11 (0.005542)\n",
      "15. feature 2 (0.002300)\n",
      "16. feature 3 (0.001570)\n",
      "17. feature 1 (0.001426)\n",
      "18. feature 0 (0.001377)\n"
     ]
    },
    {
     "data": {
      "image/png": "[encoded data removed]",
      "text/plain": [
       "<Figure size 432x288 with 1 Axes>"
      ]
     },
     "metadata": {
      "needs_background": "light"
     },
     "output_type": "display_data"
    }
   ],
   "source": [
    "importances = RF_clf.feature_importances_\n",
    "std = np.std([tree.feature_importances_ for tree in RF_clf.estimators_],\n",
    "             axis=0)\n",
    "indices = np.argsort(importances)[::-1]\n",
    "\n",
    "# Printing the feature ranking\n",
    "print(\"Feature ranking:\")\n",
    "\n",
    "for f in range(X.shape[1]):\n",
    "    print(\"%d. feature %d (%f)\" % (f + 1, indices[f], importances[indices[f]]))\n",
    "\n",
    "# Plotting the feature importances of the forest\n",
    "plt.figure()\n",
    "plt.title(\"Feature importances\")\n",
    "plt.bar(range(X.shape[1]), importances[indices],\n",
    "       color=\"r\", yerr=std[indices], align=\"center\")\n",
    "plt.xticks(range(X.shape[1]), indices)\n",
    "plt.xlim([-1, X.shape[1]])\n",
    "plt.show()"
   ]
  },
  {
   "cell_type": "code",
   "execution_count": 27,
   "id": "5bee6c94",
   "metadata": {},
   "outputs": [],
   "source": [
    "# Variables - week_id, store_id, log_pct_change, store_id_WI_3, price_CA, price_WI, price_TX, gas_price, log_amzn_price, log_weekly_revenue,"
   ]
  },
  {
   "cell_type": "markdown",
   "id": "0ca34f0c",
   "metadata": {},
   "source": [
    "## Lasso Regularization (L1)"
   ]
  },
  {
   "cell_type": "code",
   "execution_count": 29,
   "id": "fbf51902",
   "metadata": {},
   "outputs": [
    {
     "name": "stdout",
     "output_type": "stream",
     "text": [
      "0.99\n"
     ]
    }
   ],
   "source": [
    "#define cross-validation method to evaluate model and determine optimal lambda (called alpha in Python)\n",
    "cv = RepeatedKFold(n_splits=10, n_repeats=10, random_state=1)\n",
    "\n",
    "#define model\n",
    "model = LassoCV(alphas=arange(0.01, 1, 0.01), cv=cv, n_jobs=-1)\n",
    "\n",
    "#fit model\n",
    "model.fit(X_train, y_train)\n",
    "\n",
    "#display lambda that produced the lowest test MSE\n",
    "print(model.alpha_)"
   ]
  },
  {
   "cell_type": "code",
   "execution_count": 30,
   "id": "7719db4e",
   "metadata": {},
   "outputs": [],
   "source": [
    "y_pred_train_l1 = model.predict(X_train)\n",
    "y_pred_test_l1 = model.predict(X_test)"
   ]
  },
  {
   "cell_type": "code",
   "execution_count": 31,
   "id": "dda151a8",
   "metadata": {},
   "outputs": [
    {
     "name": "stdout",
     "output_type": "stream",
     "text": [
      "0.10962469041347854 0.11227507421244685\n"
     ]
    }
   ],
   "source": [
    "# Calculate MAPE\n",
    "mape_train = statistics.mean(abs((y_train - y_pred_train_l1)/y_train))\n",
    "\n",
    "mape_test = statistics.mean(abs((y_test - y_pred_test_l1)/y_test))\n",
    "\n",
    "print(mape_train, mape_test)"
   ]
  },
  {
   "cell_type": "code",
   "execution_count": 42,
   "id": "38515402",
   "metadata": {},
   "outputs": [
    {
     "name": "stdout",
     "output_type": "stream",
     "text": [
      "17\n",
      "[('Cultural', 338.66659102310075), ('Sporting', 2590.1850806416223), ('National', -2117.343716662483), ('Religious', 125.67853220414295), ('pct_change_price', -196.7800101619293), ('store_id_CA_1', 17226.50009330765), ('store_id_CA_2', 1673.6012125375541), ('store_id_CA_3', 52703.385230239255), ('store_id_CA_4', -19145.433615359732), ('store_id_TX_1', -8016.920115690432), ('store_id_TX_2', 9782.710131140115), ('store_id_TX_3', -0.0), ('store_id_WI_1', -9511.512788447908), ('store_id_WI_2', 619.2051081173969), ('store_id_WI_3', -3355.7626241008684), ('amzn_price', 319.0389528708513), ('gas_price', -466.7858038689861), ('item_on', 17.479321189781377)]\n"
     ]
    },
    {
     "data": {
      "text/plain": [
       "array([ 3.38666591e+02,  2.59018508e+03, -2.11734372e+03,  1.25678532e+02,\n",
       "       -1.96780010e+02,  1.72265001e+04,  1.67360121e+03,  5.27033852e+04,\n",
       "       -1.91454336e+04, -8.01692012e+03,  9.78271013e+03, -0.00000000e+00,\n",
       "       -9.51151279e+03,  6.19205108e+02, -3.35576262e+03,  3.19038953e+02,\n",
       "       -4.66785804e+02,  1.74793212e+01])"
      ]
     },
     "execution_count": 42,
     "metadata": {},
     "output_type": "execute_result"
    }
   ],
   "source": [
    "print(np.sum(model.coef_ != 0))\n",
    "\n",
    "names = X_train.columns\n",
    "\n",
    "print([(names[i], model.coef_[i]) for i in range(len(names))])"
   ]
  },
  {
   "cell_type": "markdown",
   "id": "dff36d9f",
   "metadata": {},
   "source": [
    "## Evaluate RF Model on testing dataset"
   ]
  },
  {
   "cell_type": "code",
   "execution_count": null,
   "id": "79f2698d",
   "metadata": {},
   "outputs": [],
   "source": [
    "# Read in evaluation data\n",
    "eval_df = pd.read_csv('Data/task_5.csv', sep=\",\", header = 0)\n",
    "\n",
    "eval_df.head()"
   ]
  },
  {
   "cell_type": "code",
   "execution_count": null,
   "id": "0bf01765",
   "metadata": {},
   "outputs": [],
   "source": [
    "eval_new = eval_df.copy()\n",
    "\n",
    "# Subset to variables that seem appropriate - variables considered in linear regression\n",
    "# Variables - week_id, store_id, log_pct_change, store_id_WI_3, price_CA, price_WI, price_TX, gas_price, log_amzn_price, log_weekly_revenue\n",
    "drop_col = ['wm_yr_wk','week_id', 'store_id', 'log_pct_change', 'price_CA', 'price_WI', 'price_TX', 'log_amzn_price', 'log_weekly_revenue', 'log_gas_price']\n",
    "eval_new.drop(drop_col, axis=1, inplace=True) # dropping columns\n",
    "\n",
    "eval_new.head()"
   ]
  },
  {
   "cell_type": "code",
   "execution_count": null,
   "id": "e8b4d333",
   "metadata": {},
   "outputs": [],
   "source": [
    "X_eval = eval_new.drop('weekly_revenue', axis = 1)\n",
    "y_eval = eval_new['weekly_revenue']"
   ]
  },
  {
   "cell_type": "code",
   "execution_count": null,
   "id": "f3f0e0b7",
   "metadata": {},
   "outputs": [],
   "source": [
    "# Generate predictions\n",
    "y_pred_eval_rf = RF_clf.predict(X_eval)"
   ]
  },
  {
   "cell_type": "code",
   "execution_count": null,
   "id": "1d8d27c7",
   "metadata": {},
   "outputs": [],
   "source": [
    "# Calculate MAPE\n",
    "mape_eval_rf = statistics.mean(abs((y_eval - y_pred_eval_rf)/y_eval))\n",
    "\n",
    "print(mape_eval_rf)"
   ]
  },
  {
   "cell_type": "code",
   "execution_count": null,
   "id": "aec50ba8",
   "metadata": {},
   "outputs": [],
   "source": [
    "# Merge prediction to dataset to sort by week\n",
    "df_eval_rf = pd.DataFrame({'y_pred_eval_rf':y_pred_eval_rf})\n",
    "\n",
    "df_eval_rf_2= pd.concat([eval_df, df_eval_rf], axis=1)\n",
    "\n",
    "df_eval_rf_2.head()"
   ]
  },
  {
   "cell_type": "code",
   "execution_count": null,
   "id": "ca689f97",
   "metadata": {},
   "outputs": [],
   "source": [
    "df_eval_rf_2['error'] = abs((df_eval_rf_2['weekly_revenue'] - df_eval_rf_2['y_pred_eval_rf'])/df_eval_rf_2['weekly_revenue'])"
   ]
  },
  {
   "cell_type": "code",
   "execution_count": null,
   "id": "603381cb",
   "metadata": {},
   "outputs": [],
   "source": [
    "df_eval_rf_2.groupby('week_id').agg('mean')"
   ]
  },
  {
   "cell_type": "markdown",
   "id": "635779d7",
   "metadata": {},
   "source": [
    "## Evaluate L1 model on testing dataset"
   ]
  },
  {
   "cell_type": "code",
   "execution_count": null,
   "id": "8e55dfa0",
   "metadata": {},
   "outputs": [],
   "source": [
    "y_pred_eval_l1 = model.predict(X_eval)"
   ]
  },
  {
   "cell_type": "code",
   "execution_count": null,
   "id": "bf77248c",
   "metadata": {},
   "outputs": [],
   "source": [
    "# Calculate MAPE\n",
    "mape_eval_l1 = statistics.mean(abs((y_eval - y_pred_eval_l1)/y_eval))\n",
    "print(mape_eval_l1)"
   ]
  },
  {
   "cell_type": "code",
   "execution_count": null,
   "id": "3e4ef193",
   "metadata": {},
   "outputs": [],
   "source": [
    "# Merge prediction to dataset to sort by week\n",
    "df_eval_l1 = pd.DataFrame({'y_pred_eval_l1':y_pred_eval_l1})\n",
    "\n",
    "df_eval_l1_2= pd.concat([eval_df, df_eval_l1], axis=1)\n",
    "\n",
    "df_eval_l1_2.head()"
   ]
  },
  {
   "cell_type": "code",
   "execution_count": null,
   "id": "1eac8f57",
   "metadata": {},
   "outputs": [],
   "source": [
    "df_eval_l1_2['error'] = abs((df_eval_l1_2['weekly_revenue'] - df_eval_l1_2['y_pred_eval_l1'])/df_eval_l1_2['weekly_revenue'])"
   ]
  },
  {
   "cell_type": "code",
   "execution_count": 43,
   "id": "c8d3d6e5",
   "metadata": {},
   "outputs": [
    {
     "ename": "NameError",
     "evalue": "name 'df_eval_l1_2' is not defined",
     "output_type": "error",
     "traceback": [
      "\u001b[1;31m---------------------------------------------------------------------------\u001b[0m",
      "\u001b[1;31mNameError\u001b[0m                                 Traceback (most recent call last)",
      "\u001b[1;32m<ipython-input-43-e7262c43f9fb>\u001b[0m in \u001b[0;36m<module>\u001b[1;34m\u001b[0m\n\u001b[1;32m----> 1\u001b[1;33m \u001b[0mdf_eval_l1_2\u001b[0m\u001b[1;33m.\u001b[0m\u001b[0mgroupby\u001b[0m\u001b[1;33m(\u001b[0m\u001b[1;34m'week_id'\u001b[0m\u001b[1;33m)\u001b[0m\u001b[1;33m.\u001b[0m\u001b[0magg\u001b[0m\u001b[1;33m(\u001b[0m\u001b[1;34m'mean'\u001b[0m\u001b[1;33m)\u001b[0m\u001b[1;33m\u001b[0m\u001b[1;33m\u001b[0m\u001b[0m\n\u001b[0m",
      "\u001b[1;31mNameError\u001b[0m: name 'df_eval_l1_2' is not defined"
     ]
    }
   ],
   "source": [
    "df_eval_l1_2.groupby('week_id').agg('mean')"
   ]
  }
 ],
 "metadata": {
  "kernelspec": {
   "display_name": "Python 3",
   "language": "python",
   "name": "python3"
  },
  "language_info": {
   "codemirror_mode": {
    "name": "ipython",
    "version": 3
   },
   "file_extension": ".py",
   "mimetype": "text/x-python",
   "name": "python",
   "nbconvert_exporter": "python",
   "pygments_lexer": "ipython3",
   "version": "3.8.8"
  }
 },
 "nbformat": 4,
 "nbformat_minor": 5
}
